{
 "cells": [
  {
   "cell_type": "markdown",
   "metadata": {},
   "source": [
    "# Segmenting nerve images"
   ]
  },
  {
   "cell_type": "markdown",
   "metadata": {},
   "source": [
    "Here is the starting point for processing ultrasound nerve segmentation data from Kaggle"
   ]
  },
  {
   "cell_type": "code",
   "execution_count": null,
   "metadata": {
    "ExecuteTime": {
     "end_time": "2021-03-23T13:30:24.034893Z",
     "start_time": "2021-03-23T13:30:22.396992Z"
    }
   },
   "outputs": [],
   "source": [
    "import os\n",
    "import numpy as np # linear algebra\n",
    "import pandas as pd # data processing, CSV file I/O (e.g. pd.read_csv)\n",
    "import glob\n",
    "from skimage.io import imread\n",
    "import matplotlib.pyplot as plt\n",
    "IMAGE_DIR = '../../input/patient41/'"
   ]
  },
  {
   "cell_type": "markdown",
   "metadata": {},
   "source": [
    "## Load and Preview Images"
   ]
  },
  {
   "cell_type": "code",
   "execution_count": null,
   "metadata": {
    "ExecuteTime": {
     "end_time": "2021-03-23T13:30:24.070864Z",
     "start_time": "2021-03-23T13:30:24.036412Z"
    }
   },
   "outputs": [],
   "source": [
    "us_image = plt.imread(IMAGE_DIR+'41_40.tif')\n",
    "us_mask  = plt.imread(IMAGE_DIR+'41_40_mask.tif') != 0"
   ]
  },
  {
   "cell_type": "code",
   "execution_count": null,
   "metadata": {
    "ExecuteTime": {
     "end_time": "2021-03-23T13:30:24.462340Z",
     "start_time": "2021-03-23T13:30:24.073399Z"
    }
   },
   "outputs": [],
   "source": [
    "%matplotlib inline\n",
    "\n",
    "fig, (ax1, ax2 ,ax3) = plt.subplots(1,3, figsize = (15,4))\n",
    "ax1.imshow(us_image)\n",
    "ax1.set_title('Ultrasound Image')\n",
    "ax2.hist(us_image.ravel(),bins=50)\n",
    "ax2.set_title('Ultrasound Intensity Distribution')\n",
    "ax3.imshow(us_mask, cmap = 'bone')\n",
    "ax3.set_title('Segmented Nerve');"
   ]
  },
  {
   "cell_type": "markdown",
   "metadata": {},
   "source": [
    "## Just focus on the nerve\n",
    "Show the segmentation of the nerve and the intensity inside that region"
   ]
  },
  {
   "cell_type": "code",
   "execution_count": null,
   "metadata": {
    "ExecuteTime": {
     "end_time": "2021-03-23T13:30:26.982015Z",
     "start_time": "2021-03-23T13:30:26.423754Z"
    }
   },
   "outputs": [],
   "source": [
    "fig, ((ax1, ax2), (ax3, ax4)) = plt.subplots(2,2, figsize = (10,10))\n",
    "ax1.imshow(us_image)\n",
    "ax1.set_title('Ultrasound Image')\n",
    "counts, bins, _ = ax2.hist(us_image.ravel(),bins=50)\n",
    "ax2.set_title('Ultrasound Intensity Distribution')\n",
    "ax3.imshow(us_image*us_mask)\n",
    "ax3.set_title('Segmented Nerve Image')\n",
    "ax4.hist(us_image[us_mask], bins = bins) # use the same bins again\n",
    "ax4.set_title('Ultrasound Intensity Distribution')"
   ]
  },
  {
   "cell_type": "markdown",
   "metadata": {},
   "source": [
    "# Simple Segmentation\n",
    "We see too peaks in this histogram, lets try segmenting between them"
   ]
  },
  {
   "cell_type": "code",
   "execution_count": null,
   "metadata": {
    "ExecuteTime": {
     "end_time": "2021-03-23T13:30:28.782324Z",
     "start_time": "2021-03-23T13:30:28.496502Z"
    }
   },
   "outputs": [],
   "source": [
    "threshold = 120\n",
    "thresholded = us_image > threshold\n",
    "%matplotlib inline\n",
    "fig, (ax1, ax2 ,ax3) = plt.subplots(1,3, figsize = (14,4))\n",
    "ax1.imshow(us_image)\n",
    "ax1.set_title('Ultrasound Image')\n",
    "ax2.imshow(thresholded, interpolation='none')\n",
    "ax2.set_title('Test Segmentation (>{0})'.format(threshold))\n",
    "ax3.imshow(us_mask, cmap = 'bone')\n",
    "ax3.set_title('Segmented Nerve')"
   ]
  },
  {
   "cell_type": "markdown",
   "metadata": {},
   "source": [
    "# Scoring the Result\n",
    "We can use the ROC curve to score the result and see how accurately we classified the images. Here the ROC curve is obtained using [SciKit Learn](https://scikit-learn.org/stable/modules/generated/sklearn.metrics.roc_curve.html)."
   ]
  },
  {
   "cell_type": "code",
   "execution_count": null,
   "metadata": {
    "ExecuteTime": {
     "end_time": "2021-03-23T13:30:53.408072Z",
     "start_time": "2021-03-23T13:30:51.417499Z"
    }
   },
   "outputs": [],
   "source": [
    "from sklearn.metrics import roc_curve, auc # roc curve tools\n",
    "\n",
    "ground_truth_labels = us_mask.ravel() # we want to make them into vectors\n",
    "score_value         = us_image.ravel()/255.0  # we want to make them into vectors and rescale to interval [0,1]\n",
    "\n",
    "fpr, tpr, _ = roc_curve(ground_truth_labels,score_value)\n",
    "roc_auc     = auc(fpr,tpr)"
   ]
  },
  {
   "cell_type": "code",
   "execution_count": null,
   "metadata": {
    "ExecuteTime": {
     "end_time": "2021-03-23T13:30:53.535560Z",
     "start_time": "2021-03-23T13:30:53.409622Z"
    }
   },
   "outputs": [],
   "source": [
    "# Visualization\n",
    "fig, ax = plt.subplots(1,1)\n",
    "ax.plot(fpr, tpr, label='ROC curve (area = {0:02f})'.format(roc_auc))\n",
    "ax.plot([0, 1], [0, 1], 'k--')\n",
    "ax.set_xlim([0.0, 1.0])\n",
    "ax.set_ylim([0.0, 1.05])\n",
    "ax.set_xlabel('False Positive Rate')\n",
    "ax.set_ylabel('True Positive Rate')\n",
    "ax.set_title('Receiver operating characteristic example')\n",
    "ax.legend(loc=\"lower right\");"
   ]
  },
  {
   "cell_type": "markdown",
   "metadata": {},
   "source": [
    "# Gaussian Filter\n",
    "Here we apply a gaussian filter and see how the performance changes"
   ]
  },
  {
   "cell_type": "code",
   "execution_count": null,
   "metadata": {
    "ExecuteTime": {
     "end_time": "2021-03-23T13:30:56.072668Z",
     "start_time": "2021-03-23T13:30:54.672480Z"
    }
   },
   "outputs": [],
   "source": [
    "%matplotlib inline\n",
    "from skimage.filters import gaussian\n",
    "gus_image = gaussian(us_image/255,sigma = 25)*255\n",
    "\n",
    "test_threshold = 120\n",
    "thresholded = gus_image>test_threshold\n",
    "# Visualization\n",
    "fig, (ax1, ax2 ,ax3) = plt.subplots(1,3, figsize = (14,4))\n",
    "ax1.imshow(gus_image)\n",
    "ax1.set_title('Gaussian Filtered Image')\n",
    "ax2.imshow(thresholded, cmap = 'bone')\n",
    "ax2.set_title('Test Segmentation')\n",
    "ax3.imshow(us_mask, cmap = 'bone')\n",
    "ax3.set_title('Segmented Nerve');"
   ]
  },
  {
   "cell_type": "code",
   "execution_count": null,
   "metadata": {
    "ExecuteTime": {
     "end_time": "2021-03-23T13:30:57.309989Z",
     "start_time": "2021-03-23T13:30:57.147700Z"
    }
   },
   "outputs": [],
   "source": [
    "ground_truth_labels = us_mask.ravel() # we want to make them into vectors\n",
    "score_value = gus_image.ravel()/255.0 # we want to make them into vectors\n",
    "fpr_gus, tpr_gus, _ = roc_curve(ground_truth_labels,score_value)\n",
    "roc_auc_gus = auc(fpr_gus,tpr_gus)\n",
    "\n",
    "# Visualization\n",
    "fig, ax = plt.subplots(1,1)\n",
    "ax.plot(fpr, tpr, label='Raw ROC curve (area = %0.2f)' % roc_auc)\n",
    "ax.plot(fpr_gus, tpr_gus, label='Gaussian ROC curve (area = %0.2f)' % roc_auc_gus)\n",
    "ax.plot([0, 1], [0, 1], 'k--')\n",
    "ax.set_xlim([0.0, 1.0])\n",
    "ax.set_ylim([0.0, 1.05])\n",
    "ax.set_xlabel('False Positive Rate')\n",
    "ax.set_ylabel('True Positive Rate')\n",
    "ax.set_title('Receiver operating characteristic example')\n",
    "ax.legend(loc=\"lower right\");"
   ]
  },
  {
   "cell_type": "markdown",
   "metadata": {},
   "source": [
    "# Tasks \n",
    "\n",
    " 1. How can you improve filtering in this analysis?\n",
    "  - Which filter elements might improve the area under the ROC?\n",
    " 3. Try making workflows to test out a few different filters\n",
    " - Where might morphological operations fit in?\n",
    " - How can you make them part of this workflow as well?\n",
    " 6. (Challenge) Try and use the optimize toolbox of scipy with the fmin\n",
    "    function (from scipy.optimize import fmin) to find the optimum\n",
    "    parameters for the highers area (hint: fmin finds the minimum value)"
   ]
  },
  {
   "cell_type": "code",
   "execution_count": null,
   "metadata": {},
   "outputs": [],
   "source": []
  }
 ],
 "metadata": {
  "hide_input": false,
  "kernelspec": {
   "display_name": "Python 3 (ipykernel)",
   "language": "python",
   "name": "python3"
  },
  "language_info": {
   "codemirror_mode": {
    "name": "ipython",
    "version": 3
   },
   "file_extension": ".py",
   "mimetype": "text/x-python",
   "name": "python",
   "nbconvert_exporter": "python",
   "pygments_lexer": "ipython3",
   "version": "3.9.7"
  }
 },
 "nbformat": 4,
 "nbformat_minor": 1
}
