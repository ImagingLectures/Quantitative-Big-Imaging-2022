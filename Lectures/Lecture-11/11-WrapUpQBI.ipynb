{
 "cells": [
  {
   "cell_type": "markdown",
   "id": "ea6e7eea",
   "metadata": {
    "slideshow": {
     "slide_type": "notes"
    }
   },
   "source": [
    "# Wrapping up QBI"
   ]
  },
  {
   "cell_type": "markdown",
   "id": "1fb200e0",
   "metadata": {
    "slideshow": {
     "slide_type": "slide"
    }
   },
   "source": [
    "<h1>Wrapping up QBI</h1>\n",
    "\n",
    "<p>\n",
    "<b>Quantitative Big Imaging - ETHZ: 227-0966-00L</b>\n",
    "<br />\n",
    "</p>\n",
    "<br />\n",
    "<p style=\"font-size:1em;\">May 8, 2022</p>\n",
    "<br /><br />\n",
    "<p style=\"font-size:1.5em;padding-bottom: 0.25em;\">Anders Kaestner</p>  \n",
    "<p style=\"font-size:1em;\">Laboratory for Neutron Scattering and Imaging<br />Paul Scherrer Institut</p>"
   ]
  },
  {
   "cell_type": "markdown",
   "id": "e3f2f4fc",
   "metadata": {
    "slideshow": {
     "slide_type": "slide"
    }
   },
   "source": [
    "## Why QBI?\n",
    "\n",
    "\n",
    "__We have experimental data__\n",
    "- Great amounts\n",
    "- Limited time\n",
    "- Limited manpower\n",
    "\n",
    "__We want to publish it__\n",
    "- Quantitative analysis\n",
    "- Reliable\n",
    "- Repeatable\n",
    "- Efficent automated workflows"
   ]
  },
  {
   "cell_type": "markdown",
   "id": "f12d405c",
   "metadata": {
    "slideshow": {
     "slide_type": "slide"
    }
   },
   "source": [
    "## Objectives\n",
    "\n",
    "We need to understand the components of QBI\n",
    "- The data creation\n",
    "- Image processing and analysis methods\n",
    "- Working with data\n",
    "- Some computer science/engineering\n",
    "- How to present the results\n"
   ]
  },
  {
   "cell_type": "markdown",
   "id": "e589d59b",
   "metadata": {
    "slideshow": {
     "slide_type": "slide"
    }
   },
   "source": [
    "## The work flow\n",
    "\n",
    "<img src=\"figures/all_icons.svg\" style=\"height:200px\"/>"
   ]
  },
  {
   "cell_type": "markdown",
   "id": "a100e954",
   "metadata": {
    "slideshow": {
     "slide_type": "slide"
    }
   },
   "source": [
    "## Lecture 1 - Image basics\n",
    "\n",
    "- What is an image?\n",
    "- Pixelwise operations\n",
    "- The histogram"
   ]
  },
  {
   "cell_type": "markdown",
   "id": "c68c5e1c",
   "metadata": {
    "slideshow": {
     "slide_type": "slide"
    }
   },
   "source": [
    "## Lecture 2 - Data sets and validation\n",
    "\n",
    "- Using prepared data\n",
    "- What is a good data set\n",
    "- Analysis validation workflow\n",
    "- Ground truth"
   ]
  },
  {
   "cell_type": "markdown",
   "id": "5ff91194",
   "metadata": {
    "slideshow": {
     "slide_type": "slide"
    }
   },
   "source": [
    "## Lecture 3 - Image enhancement\n",
    "\n",
    "- Noise\n",
    "- Reducing noise\n",
    "- Enhancing image features\n",
    "- Filter performance analysis"
   ]
  },
  {
   "cell_type": "markdown",
   "id": "9f6d36a2",
   "metadata": {
    "slideshow": {
     "slide_type": "slide"
    }
   },
   "source": [
    "## Lecture 4 - Basic segmentation\n",
    "- How are images formed \n",
    "- What is a change in contrast\n",
    "- How to apply thresholds"
   ]
  },
  {
   "cell_type": "markdown",
   "id": "93e7bff5",
   "metadata": {
    "slideshow": {
     "slide_type": "slide"
    }
   },
   "source": [
    "## Lecture 5 - Advanced segmentation\n",
    "\n",
    "- Methods to automatically find thresholds\n",
    "- Unsupervised methods\n",
    "- Supervised methods"
   ]
  },
  {
   "cell_type": "markdown",
   "id": "318167c8",
   "metadata": {
    "slideshow": {
     "slide_type": "slide"
    }
   },
   "source": [
    "## Lecture 6 - Shape analysis\n",
    "- Component labelling\n",
    "- Shape properties\n",
    "- Textures\n"
   ]
  },
  {
   "cell_type": "markdown",
   "id": "ad79931a",
   "metadata": {
    "slideshow": {
     "slide_type": "slide"
    }
   },
   "source": [
    "## Lecture 7 - Complex shape\n",
    "- Segmentation of touching objects\n",
    "- Skeletons"
   ]
  },
  {
   "cell_type": "markdown",
   "id": "0e3a7220",
   "metadata": {
    "slideshow": {
     "slide_type": "slide"
    }
   },
   "source": [
    "## Lecture 8 - Statistics\n",
    "- Probabilty \n",
    "- Implications of statistical analysis\n",
    "\n",
    "\n",
    "- Presenting the results in graphs"
   ]
  },
  {
   "cell_type": "markdown",
   "id": "561f9048",
   "metadata": {
    "slideshow": {
     "slide_type": "slide"
    }
   },
   "source": [
    "## Lecture 9 - Dynamic experiments\n",
    "- Different types of dynamic experiments \n",
    "- Time series analysis\n",
    "    - Tracking\n",
    "    - Registration"
   ]
  },
  {
   "cell_type": "markdown",
   "id": "365186ee",
   "metadata": {
    "slideshow": {
     "slide_type": "slide"
    }
   },
   "source": [
    "## Lecture 10 - Multiple modalities\n",
    "### Multi modality imaging\n",
    "Can we gain more information with additional image sources\n",
    "- Modality combinations\n",
    "- Registration\n",
    "- Data fusion\n",
    "\n",
    "### Software engineering\n",
    "- Unit testing \n",
    "- Working with repositories\n",
    "- Continuous integration"
   ]
  },
  {
   "cell_type": "markdown",
   "id": "8dd514fc",
   "metadata": {
    "slideshow": {
     "slide_type": "slide"
    }
   },
   "source": [
    "## Lecture 11 - Scaling up\n",
    "- Parallel processing\n",
    "- Distributed computing\n",
    "- DAGs"
   ]
  },
  {
   "cell_type": "markdown",
   "id": "f1324559",
   "metadata": {
    "slideshow": {
     "slide_type": "slide"
    }
   },
   "source": [
    "## Projects"
   ]
  },
  {
   "cell_type": "code",
   "execution_count": null,
   "id": "03273084",
   "metadata": {},
   "outputs": [],
   "source": []
  }
 ],
 "metadata": {
  "celltoolbar": "Slideshow",
  "kernelspec": {
   "display_name": "Python 3 (ipykernel)",
   "language": "python",
   "name": "python3"
  },
  "language_info": {
   "codemirror_mode": {
    "name": "ipython",
    "version": 3
   },
   "file_extension": ".py",
   "mimetype": "text/x-python",
   "name": "python",
   "nbconvert_exporter": "python",
   "pygments_lexer": "ipython3",
   "version": "3.9.12"
  }
 },
 "nbformat": 4,
 "nbformat_minor": 5
}
