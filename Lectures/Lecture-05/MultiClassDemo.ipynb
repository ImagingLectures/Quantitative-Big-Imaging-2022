{
 "cells": [
  {
   "cell_type": "code",
   "execution_count": null,
   "metadata": {},
   "outputs": [],
   "source": [
    "import numpy as np\n",
    "import matplotlib.pyplot as plt\n",
    "from scipy import ndimage\n",
    "import scipy.stats as stats\n",
    "from scipy.signal import medfilt\n",
    "from matplotlib.colors import LogNorm\n",
    "\n",
    "%matplotlib inline"
   ]
  },
  {
   "cell_type": "code",
   "execution_count": null,
   "metadata": {
    "scrolled": true
   },
   "outputs": [],
   "source": [
    "N=256\n",
    "ph=np.zeros([N,N]);\n",
    "\n",
    "ph[int(N/4):int(3*N/4),int(N/4):int(3*N/4)]=1;\n",
    "\n",
    "ph[int(N/4):int(N/2),int(N/4):int(N/2)]=3;\n",
    "\n",
    "plt.imshow(ph)"
   ]
  },
  {
   "cell_type": "code",
   "execution_count": null,
   "metadata": {},
   "outputs": [],
   "source": [
    "M=5;\n",
    "fph=ndimage.uniform_filter(ph,[M,M]);\n",
    "\n",
    "np.random.seed(10)\n",
    "w=0.25*np.random.normal(0,1,fph.shape);\n",
    "\n",
    "\n",
    "wfph=w+fph;\n",
    "th=[0.6, 2.2];"
   ]
  },
  {
   "cell_type": "code",
   "execution_count": null,
   "metadata": {},
   "outputs": [],
   "source": [
    "fig,ax = plt.subplots(1,3,figsize=[15,4.5])\n",
    "ax=ax.ravel()\n",
    "ax[0].imshow(wfph,cmap='gray'), \n",
    "ax[0].set_title('Original')\n",
    "\n",
    "h=ax[1].hist(wfph.ravel(),bins=256);\n",
    "th=[0.6, 2.2];\n",
    "ax[1].vlines([th[0]],ymin=0,ymax=h[0].max(),color='r')\n",
    "ax[1].vlines([th[1]],ymin=0,ymax=h[0].max(),color='r')\n",
    "ax[1].set_title('Histogram')\n",
    "\n",
    "s=(wfph<th[0]).astype(int);\n",
    "s=2-(s+(wfph<th[1]))\n",
    "ax[2].imshow(s,interpolation='none')\n",
    "ax[2].set_title('Thresholded image')\n",
    "ax[2].annotate('Virtual skin effect', xy=(100, 65),  xycoords='data',\n",
    "            xytext=(0.5, 0.9), textcoords='axes fraction',\n",
    "            arrowprops=dict(facecolor='red', shrink=0.05),\n",
    "               bbox=dict(fc=\"0.9\"),\n",
    "            horizontalalignment='right', verticalalignment='top',\n",
    "            )\n",
    "plt.savefig('figures/multithreshold.svg')\n",
    "plt.savefig('figures/multithreshold.pdf')"
   ]
  },
  {
   "cell_type": "code",
   "execution_count": null,
   "metadata": {},
   "outputs": [],
   "source": [
    "fig,ax = plt.subplots(1,3,figsize=(15,4.5))\n",
    "ax[0].imshow(wfph,cmap='gray')\n",
    "ax[0].set_title('Original')\n",
    "ax[0].plot([50,80],[100,100],lw=4,label='Class 1 to 3')\n",
    "ax[0].plot([110,140],[100,100],lw=4,label='Class 2 to 3')\n",
    "ax[0].plot([50,80],[160,160],lw=4,label='Class 1 to 2')\n",
    "ax[0].legend()\n",
    "\n",
    "p13=wfph[100:110,50:80].mean(axis=0)\n",
    "p23=wfph[100:110,110:140].mean(axis=0)\n",
    "p12=wfph[160:170,50:80].mean(axis=0)\n",
    "\n",
    "ax[1].plot(p13,label='Class 1 to 3')\n",
    "ax[1].plot(p23,label='Class 2 to 3')\n",
    "ax[1].plot(p12,label='Class 1 to 2')\n",
    "ax[1].fill_between(np.arange(30),np.ones(30)*2.2,np.ones(30)*3.5,alpha=0.2)\n",
    "ax[1].fill_between(np.arange(30),np.ones(30)*0.6,np.ones(30)*2.199,alpha=0.2)\n",
    "ax[1].fill_between(np.arange(30),np.ones(30)*0.6,np.ones(30)*-0.1,alpha=0.2)\n",
    "ax[1].hlines([2.2],xmin=0,xmax=29,linestyle='--')\n",
    "ax[1].hlines([0.6],xmin=0,xmax=29,linestyle='--')\n",
    "ax[1].legend()\n",
    "ax[1].set_title('Profiles and threshold levels')\n",
    "ax[1].set_xlabel('Position')\n",
    "ax[1].set_ylabel('Pixel intensity')\n",
    "\n",
    "def multithres(p,th) :\n",
    "    s=(p<th[0]).astype(int);\n",
    "    s=2-(s+(p<th[1]))\n",
    "\n",
    "    return s\n",
    "\n",
    "ax[2].plot(multithres(p13,th),label='Class 1 to 3')\n",
    "ax[2].plot(multithres(p23,th),label='Class 2 to 3')\n",
    "ax[2].plot(multithres(p12,th),label='Class 1 to 2')\n",
    "ax[2].legend()\n",
    "ax[2].annotate('Misclassified', xy=(13, 1),  xycoords='data',\n",
    "            xytext=(0.35, 0.65), textcoords='axes fraction',\n",
    "            arrowprops=dict(facecolor='black', shrink=0.05),\n",
    "            horizontalalignment='right', verticalalignment='top',\n",
    "            )\n",
    "ax[2].set_xlabel('Position')\n",
    "ax[2].set_ylabel('Class')\n",
    "ax[2].set_yticks([0,1,2])\n",
    "ax[2].set_yticklabels([1,2,3])\n",
    "ax[2].set_title('Class assignments');\n",
    "plt.savefig('figures/MultiClassProfiles.svg')\n",
    "plt.savefig('figures/MultiClassProfiles.pdf')"
   ]
  },
  {
   "cell_type": "code",
   "execution_count": null,
   "metadata": {},
   "outputs": [],
   "source": [
    "\n",
    "fig,ax = plt.subplots(2,3,figsize=[15,9])\n",
    "ax=ax.ravel()\n",
    "ax[0].imshow(wfph), \n",
    "ax[0].set_title('Original')\n",
    "\n",
    "h=ax[1].hist(wfph.ravel(),bins=256);\n",
    "th=[0.6, 2.2];\n",
    "ax[1].vlines([th[0]],ymin=0,ymax=h[0].max(),color='r')\n",
    "ax[1].vlines([th[1]],ymin=0,ymax=h[0].max(),color='r')\n",
    "ax[1].set_title('Histogram')\n",
    "\n",
    "s=(wfph<th[0]).astype(int);\n",
    "s=2-(s+(wfph<th[1]))\n",
    "ax[2].imshow(s,interpolation='none')\n",
    "ax[2].set_title('Thresholded image')\n",
    "\n",
    "\n",
    "e=ndimage.filters.gaussian_gradient_magnitude(wfph,sigma=1.0)\n",
    "ax[3].imshow(e)\n",
    "ax[3].set_title('Gradient magnitude')\n",
    "\n",
    "\n",
    "s2=s;\n",
    "s2[0.3<e]=3\n",
    "ax[4].imshow(0.3<e,interpolation='none')\n",
    "ax[4].set_title('Guarded edge')\n",
    "\n",
    "a=plt.imread('figures/gradientseg.png')\n",
    "ax[5].imshow(a,interpolation='none')\n",
    "ax[5].set_title('Region growing near edge')\n",
    "\n",
    "plt.savefig('figures/guardededge_demo.pdf')\n",
    "plt.savefig('figures/guardededge_demo.svg')"
   ]
  },
  {
   "cell_type": "code",
   "execution_count": null,
   "metadata": {},
   "outputs": [],
   "source": [
    "H,ex,ey=np.histogram2d(np.reshape(wfph,[np.prod(wfph.shape)]), np.reshape(e,[np.prod(e.shape)]), bins=100)"
   ]
  },
  {
   "cell_type": "code",
   "execution_count": null,
   "metadata": {
    "scrolled": true
   },
   "outputs": [],
   "source": [
    "plt.imshow(H+1,norm=LogNorm())\n",
    "plt.colorbar()"
   ]
  }
 ],
 "metadata": {
  "kernelspec": {
   "display_name": "Python 3 (ipykernel)",
   "language": "python",
   "name": "python3"
  },
  "language_info": {
   "codemirror_mode": {
    "name": "ipython",
    "version": 3
   },
   "file_extension": ".py",
   "mimetype": "text/x-python",
   "name": "python",
   "nbconvert_exporter": "python",
   "pygments_lexer": "ipython3",
   "version": "3.9.7"
  }
 },
 "nbformat": 4,
 "nbformat_minor": 2
}
